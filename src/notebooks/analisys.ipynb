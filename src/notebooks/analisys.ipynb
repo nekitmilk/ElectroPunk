{
 "cells": [
  {
   "cell_type": "code",
   "execution_count": 8,
   "id": "2395f3f4",
   "metadata": {},
   "outputs": [],
   "source": [
    "import requests\n",
    "import pandas as pd \n",
    "import time\n",
    "from selenium import webdriver\n",
    "from selenium.webdriver.common.by import By\n",
    "from selenium.webdriver.chrome.service import Service\n",
    "from webdriver_manager.chrome import ChromeDriverManager\n",
    "\n",
    "from selenium.webdriver.support.ui import WebDriverWait\n",
    "from selenium.webdriver.support import expected_conditions as EC\n",
    "from selenium.webdriver.chrome.options import Options"
   ]
  },
  {
   "cell_type": "code",
   "execution_count": 9,
   "id": "a998f36e",
   "metadata": {},
   "outputs": [
    {
     "name": "stdout",
     "output_type": "stream",
     "text": [
      "Собрано 300 товаров\n"
     ]
    }
   ],
   "source": [
    "def get_wb_products(query=\"электростимулятор\", pages=3):\n",
    "    all_products = []\n",
    "    \n",
    "    for page in range(1, pages + 1):\n",
    "        url = \"https://search.wb.ru/exactmatch/ru/common/v4/search\"\n",
    "        params = {\n",
    "            \"query\": query,\n",
    "            \"resultset\": \"catalog\",\n",
    "            \"limit\": 100,\n",
    "            \"page\": page,\n",
    "            \"appType\": 1,\n",
    "            \"curr\": \"rub\",\n",
    "            \"dest\": -1257786  # Регион доставки: Москва\n",
    "        }\n",
    "        \n",
    "        response = requests.get(url, params=params)\n",
    "        if response.status_code != 200:\n",
    "            print(f\"Ошибка на странице {page}\")\n",
    "            continue\n",
    "            \n",
    "        data = response.json()\n",
    "        products = data.get(\"data\", {}).get(\"products\", [])\n",
    "        \n",
    "        for product in products:\n",
    "            all_products.append({\n",
    "                \"id\": product[\"id\"],\n",
    "                \"name\": product[\"name\"],\n",
    "                \"price\": product[\"salePriceU\"] / 100,\n",
    "                \"rating\": product.get(\"reviewRating\", 0),\n",
    "                \"feedbacks\": product.get(\"feedbacks\", 0),\n",
    "                \"brand\": product[\"brand\"]\n",
    "            })\n",
    "            \n",
    "    return pd.DataFrame(all_products)\n",
    "\n",
    "# Собираем 300 товаров (3 страницы)\n",
    "df = get_wb_products(pages=3)\n",
    "df.to_csv(\"wb_products.csv\", index=False)\n",
    "print(f\"Собрано {len(df)} товаров\")"
   ]
  },
  {
   "cell_type": "code",
   "execution_count": 10,
   "id": "179c0a0a",
   "metadata": {},
   "outputs": [],
   "source": [
    "# Инициализация драйвера один раз (вне функции)\n",
    "def init_driver():\n",
    "    chrome_options = Options()\n",
    "    # chrome_options.add_argument(\"--headless\")  # Фоновый режим\n",
    "    chrome_options.add_argument(\"--disable-gpu\")  # Ускоряет работу\n",
    "    chrome_options.add_argument(\"--no-sandbox\")  # Для некоторых систем\n",
    "    driver = webdriver.Chrome(\n",
    "        service=Service(ChromeDriverManager().install()), \n",
    "        options=chrome_options\n",
    "    )\n",
    "    chrome_options.add_experimental_option(\n",
    "        \"prefs\", {\"profile.managed_default_content_settings.images\": 2}\n",
    "    )\n",
    "    return driver\n",
    "\n",
    "# Передаём драйвер как аргумент\n",
    "def get_product_details(driver, product_id):\n",
    "    \n",
    "    driver.get(f\"https://www.wildberries.ru/catalog/{product_id}/detail.aspx\")\n",
    "    details = {\"description\": \"\", \"power_type\": \"\", \"zones\": \"\"}\n",
    "    time.sleep(40)  # Ожидаем загрузки\n",
    "    \n",
    "    try:\n",
    "        button_confirm_age = driver.find_element(By.XPATH, \"/html/body/div[1]/div/div/button[1]\")\n",
    "        button_confirm_age.click()\n",
    "        time.sleep(3)\n",
    "        driver.execute_script(\"window.scrollBy(0, 800)\")\n",
    "        time.sleep(20)\n",
    "\n",
    "        # Нажатие на Характеристики\n",
    "        button_characteristics_and_description = driver.find_element(By.CSS_SELECTOR, \"button.product-page__btn-detail.hide-mobile.j-details-btn-desktop\")\n",
    "        button_characteristics_and_description.click()\n",
    "        time.sleep(10)\n",
    "\n",
    "        # Описание товара\n",
    "        details[\"description\"] = driver.find_element(By.CLASS_NAME, \"option__text\").text\n",
    "\n",
    "    except Exception as e:\n",
    "        print(f\"Ошибка для {product_id}: {str(e)}\")\n",
    "    \n",
    "    return details"
   ]
  },
  {
   "cell_type": "code",
   "execution_count": 4,
   "id": "bfe7fb46",
   "metadata": {},
   "outputs": [],
   "source": [
    "driver = init_driver()\n"
   ]
  },
  {
   "cell_type": "code",
   "execution_count": 5,
   "id": "3ec25543",
   "metadata": {},
   "outputs": [],
   "source": [
    "product_id = df.iloc[0][\"id\"]\n",
    "details = get_product_details(driver, product_id)"
   ]
  },
  {
   "cell_type": "code",
   "execution_count": 28,
   "id": "57f47958",
   "metadata": {},
   "outputs": [
    {
     "name": "stdout",
     "output_type": "stream",
     "text": [
      "{'description': 'Уникальный БДСМ набор электростимуляторов 7в1\\n\\nЭтот эксклюзивный набор для взрослых — идеальное сочетание функциональности, качества и разнообразия для тех, кто стремится расширить свои сексуальные горизонты. Подходит как для новичков, так и для опытных пар, набор создан из безопасных, гипоаллергенных материалов, включая медицинский латекс, что гарантирует долговечность и комфорт в использовании. \\n\\nВ состав набора входят электростимуляторы, анально-вагинальная пробка, зажимы для сосков, электромассажеры и 4 многоразовые электроподушечки, которые можно использовать даже под одеждой. Этот набор предоставляет широкий спектр возможностей для экспериментов, помогая раскрыть новые грани чувственных наслаждений. Электростимуляция в сочетании с аксессуарами для БДСМ подарит вам и вашему партнеру невероятные ощущения и настоящий заряд эйфории.\\n\\nИспользуя лубриканты и гели для улучшения проводимости, вы сможете усилить эффект от стимуляции. Вибрации и электрические импульсы воздействуют на самые чувствительные зоны, позволяя наслаждаться глубинной стимуляцией и удовлетворяя самые смелые фантазии. Набор включает аксессуары для ролевых игр, которые можно комбинировать с плетками, кляпами, ошейниками или применять при связывании.\\n\\nЭто не просто набор секс-игрушек, а полноценный инструмент для исследования новых уровней эротики и фетиша. Станет идеальным подарком как для мужчин, так и для женщин, добавляя остроты и страсти в ваши интимные игры.', 'power_type': '', 'zones': ''}\n"
     ]
    }
   ],
   "source": [
    "print(details)"
   ]
  },
  {
   "cell_type": "code",
   "execution_count": 6,
   "id": "aa956aaa",
   "metadata": {},
   "outputs": [],
   "source": [
    "driver.quit()  # Закрываем браузер только после всех запросов"
   ]
  },
  {
   "cell_type": "code",
   "execution_count": 21,
   "id": "0d53c196",
   "metadata": {},
   "outputs": [],
   "source": [
    "# Получаем характеристики и описание\n",
    "def parse_wb_product(nm):\n",
    "    url = f\"https://card.wb.ru/cards/v2/detail?appType=1&curr=rub&dest=-1257786&spp=30&nm={nm}\"\n",
    "    \n",
    "    try:\n",
    "        response = requests.get(url, timeout=10)\n",
    "        response.raise_for_status()\n",
    "        \n",
    "        data = response.json()\n",
    "        product = data[\"data\"][\"products\"][0]\n",
    "        print(product)\n",
    "        \n",
    "        return {\n",
    "            \"Артикул\": product[\"id\"],\n",
    "            \"Название\": product[\"name\"],\n",
    "            # \"Цена\": product[\"salePriceU\"] / 100,\n",
    "            \"Бренд\": product[\"brand\"],\n",
    "            \"Рейтинг\": product[\"reviewRating\"],\n",
    "            \"Отзывы\": product[\"feedbacks\"],\n",
    "            # \"Описание\": product[\"description\"],\n",
    "            # \"Характеристики\": \"\\n\".join([f\"{o['name']}: {o['value']}\" for o in product[\"options\"]])\n",
    "        }\n",
    "        \n",
    "    except Exception as e:\n",
    "        print(f\"Ошибка для {nm}: {str(e)}\")\n",
    "        return None"
   ]
  },
  {
   "cell_type": "code",
   "execution_count": 23,
   "id": "eb4af015",
   "metadata": {},
   "outputs": [
    {
     "name": "stdout",
     "output_type": "stream",
     "text": [
      "{'id': 428282572, 'root': 419796312, 'kindId': 0, 'brand': '', 'brandId': 0, 'siteBrandId': 0, 'colors': [{'name': 'белый', 'id': 16777215}, {'name': 'синий', 'id': 255}], 'subjectId': 594, 'subjectParentId': 657, 'name': 'Электростимулятор для мышц', 'entity': '', 'matchId': 0, 'supplier': 'ВсёНашлось', 'supplierId': 4533720, 'supplierRating': 4.8, 'supplierFlags': 16, 'pics': 2, 'rating': 0, 'reviewRating': 0, 'nmReviewRating': 0, 'feedbacks': 0, 'nmFeedbacks': 0, 'volume': 9, 'viewFlags': 1581058, 'isNew': True, 'promotions': [63484, 159182, 193792, 197163, 203374], 'sizes': [{'name': '', 'origName': '0', 'rank': 0, 'optionId': 609461371, 'stocks': [{'wh': 218804, 'dtype': 1, 'dist': 64, 'qty': 51, 'priority': 59023, 'time1': 60, 'time2': 46}], 'time1': 60, 'time2': 46, 'wh': 218804, 'dtype': 1, 'dist': 64, 'price': {'basic': 345000, 'product': 116400, 'total': 117300, 'logistics': 900, 'return': 0}, 'saleConditions': 134217728, 'payload': 'yOtx6BABE+yOI9WrvH2apuywUi3/AAzcBDkl9fSoRmXUu7XoByAeBoMNni++diFnIRsUAMjDCuIOu6BP6zk'}], 'totalQuantity': 51, 'time1': 60, 'time2': 46, 'wh': 218804, 'dtype': 1, 'dist': 64}\n"
     ]
    }
   ],
   "source": [
    "# Пример использования\n",
    "data = parse_wb_product(428282572)\n",
    "# print(data)"
   ]
  },
  {
   "cell_type": "code",
   "execution_count": null,
   "id": "601d8c0f",
   "metadata": {},
   "outputs": [],
   "source": [
    "# Получаем характеристики и описание\n",
    "def parse_wb_product_1(nm):\n",
    "\n",
    "    url = f\"https://www.wildberries.ru/webapi/product/{nm}/data?subject=594&kind=0&brand=0&lang=ru\"\n",
    "    \n",
    "    try:\n",
    "        response = requests.get(url, timeout=10)\n",
    "        response.raise_for_status()\n",
    "        \n",
    "        data = response.json()\n",
    "        product = data[\"data\"][\"products\"][0]\n",
    "        print(product)\n",
    "        \n",
    "        return {\n",
    "            # \"Артикул\": product[\"id\"],\n",
    "            # \"Название\": product[\"name\"],\n",
    "            # # \"Цена\": product[\"salePriceU\"] / 100,\n",
    "            # \"Бренд\": product[\"brand\"],\n",
    "            # \"Рейтинг\": product[\"reviewRating\"],\n",
    "            # \"Отзывы\": product[\"feedbacks\"],\n",
    "            # \"Описание\": product[\"description\"],\n",
    "            # \"Характеристики\": \"\\n\".join([f\"{o['name']}: {o['value']}\" for o in product[\"options\"]])\n",
    "        }\n",
    "        \n",
    "    except Exception as e:\n",
    "        print(f\"Ошибка для {nm}: {str(e)}\")\n",
    "        return None"
   ]
  },
  {
   "cell_type": "code",
   "execution_count": 31,
   "id": "278e08ed",
   "metadata": {},
   "outputs": [
    {
     "name": "stdout",
     "output_type": "stream",
     "text": [
      "Ошибка для 428282572: 'data'\n"
     ]
    }
   ],
   "source": [
    "# Пример использования\n",
    "data = parse_wb_product_1(428282572)"
   ]
  },
  {
   "cell_type": "markdown",
   "id": "46dfc7c9",
   "metadata": {},
   "source": [
    "Тестыыыы"
   ]
  },
  {
   "cell_type": "code",
   "execution_count": 8,
   "id": "4a83385b",
   "metadata": {},
   "outputs": [],
   "source": [
    "product_id = df.iloc[0][\"id\"]\n",
    "driver.get(f\"https://www.wildberries.ru/catalog/{product_id}/detail.aspx\")"
   ]
  },
  {
   "cell_type": "code",
   "execution_count": 10,
   "id": "2c314dbd",
   "metadata": {},
   "outputs": [],
   "source": [
    "# Нажатие кнопки 18+\n",
    "button_confirm_age = driver.find_element(By.XPATH, \"/html/body/div[1]/div/div/button[1]\")\n",
    "button_confirm_age.click()"
   ]
  },
  {
   "cell_type": "code",
   "execution_count": 13,
   "id": "0547b392",
   "metadata": {},
   "outputs": [],
   "source": [
    "driver.execute_script(\"window.scrollBy(0, 800)\")"
   ]
  },
  {
   "cell_type": "code",
   "execution_count": 19,
   "id": "ea39e449",
   "metadata": {},
   "outputs": [],
   "source": [
    "try:\n",
    "    # Нажатие на Характеристики\n",
    "    button_characteristics_and_description = driver.find_element(By.CSS_SELECTOR, \"button.product-page__btn-detail.hide-mobile.j-details-btn-desktop\")\n",
    "    button_characteristics_and_description.click()\n",
    "except Exception as e:\n",
    "    print(f\"Ошибка для {product_id}: {str(e)}\")\n",
    "\n",
    "# <button type=\"button\" class=\"product-page__btn-detail hide-mobile j-details-btn-desktop\" data-name-for-wba=\"Item_Description_Parameters_More\" data-link=\"{on showDetail}text{:~t('productCard.charAndDescr')}class{merge: abCentralBlock toggle='product-page__btn-detail--ab'}\" data-jsv=\"#2190^/2190^\">Характеристики и описание</button>"
   ]
  },
  {
   "cell_type": "code",
   "execution_count": 35,
   "id": "6adc22d7",
   "metadata": {},
   "outputs": [],
   "source": [
    "driver.quit()  # Закрываем браузер только после всех запросов"
   ]
  }
 ],
 "metadata": {
  "kernelspec": {
   "display_name": "antarctik_climate",
   "language": "python",
   "name": "python3"
  },
  "language_info": {
   "codemirror_mode": {
    "name": "ipython",
    "version": 3
   },
   "file_extension": ".py",
   "mimetype": "text/x-python",
   "name": "python",
   "nbconvert_exporter": "python",
   "pygments_lexer": "ipython3",
   "version": "3.10.14"
  }
 },
 "nbformat": 4,
 "nbformat_minor": 5
}
