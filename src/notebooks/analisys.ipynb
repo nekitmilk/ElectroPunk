{
 "cells": [
  {
   "cell_type": "code",
   "execution_count": 96,
   "id": "2395f3f4",
   "metadata": {},
   "outputs": [],
   "source": [
    "import requests\n",
    "import pandas as pd \n",
    "import time\n",
    "from selenium import webdriver\n",
    "from selenium.webdriver.chrome.service import Service\n",
    "from selenium.webdriver.chrome.options import Options\n",
    "from selenium_stealth import stealth\n",
    "from webdriver_manager.chrome import ChromeDriverManager\n",
    "from webdriver_manager.core.os_manager import ChromeType "
   ]
  },
  {
   "cell_type": "code",
   "execution_count": 9,
   "id": "a998f36e",
   "metadata": {},
   "outputs": [
    {
     "name": "stdout",
     "output_type": "stream",
     "text": [
      "Собрано 300 товаров\n"
     ]
    }
   ],
   "source": [
    "def get_wb_products(query=\"электростимулятор\", pages=3):\n",
    "    all_products = []\n",
    "    \n",
    "    for page in range(1, pages + 1):\n",
    "        url = \"https://search.wb.ru/exactmatch/ru/common/v4/search\"\n",
    "        params = {\n",
    "            \"query\": query,\n",
    "            \"resultset\": \"catalog\",\n",
    "            \"limit\": 100,\n",
    "            \"page\": page,\n",
    "            \"appType\": 1,\n",
    "            \"curr\": \"rub\",\n",
    "            \"dest\": -1257786  # Регион доставки: Москва\n",
    "        }\n",
    "        \n",
    "        response = requests.get(url, params=params)\n",
    "        if response.status_code != 200:\n",
    "            print(f\"Ошибка на странице {page}\")\n",
    "            continue\n",
    "            \n",
    "        data = response.json()\n",
    "        products = data.get(\"data\", {}).get(\"products\", [])\n",
    "        \n",
    "        for product in products:\n",
    "            all_products.append({\n",
    "                \"id\": product[\"id\"],\n",
    "                \"name\": product[\"name\"],\n",
    "                \"price\": product[\"salePriceU\"] / 100,\n",
    "                \"rating\": product.get(\"reviewRating\", 0),\n",
    "                \"feedbacks\": product.get(\"feedbacks\", 0),\n",
    "                \"brand\": product[\"brand\"]\n",
    "            })\n",
    "            \n",
    "    return pd.DataFrame(all_products)\n",
    "\n",
    "# Собираем 300 товаров (3 страницы)\n",
    "df = get_wb_products(pages=3)\n",
    "df.to_csv(\"wb_products.csv\", index=False)\n",
    "print(f\"Собрано {len(df)} товаров\")"
   ]
  },
  {
   "cell_type": "code",
   "execution_count": null,
   "id": "179c0a0a",
   "metadata": {},
   "outputs": [],
   "source": [
    "# Инициализация драйвера один раз (вне функции)\n",
    "def init_driver_Chrome():\n",
    "    chrome_options = Options()\n",
    "    # chrome_options.add_argument(\"--headless=new\")\n",
    "    chrome_options.add_argument(\"--disable-gpu\")\n",
    "    chrome_options.add_argument(\"--no-sandbox\")\n",
    "    chrome_options.add_argument(\"--disable-dev-shm-usage\")\n",
    "    \n",
    "    # Для автоматического определения архитектуры M1\n",
    "    service = Service(ChromeDriverManager().install())\n",
    "    driver = webdriver.Chrome(service=service, options=chrome_options)\n",
    "    stealth(driver, \n",
    "            platform=\"macOS\",\n",
    "            languages=[\"en-US\", \"en\"],\n",
    "            webgl_vendor=\"Intel Inc.\")\n",
    "    \n",
    "    return driver"
   ]
  },
  {
   "cell_type": "code",
   "execution_count": 229,
   "id": "7ef455af",
   "metadata": {},
   "outputs": [],
   "source": [
    "from selenium import webdriver\n",
    "from selenium.webdriver.firefox.service import Service\n",
    "from selenium.webdriver.firefox.options import Options\n",
    "from webdriver_manager.firefox import GeckoDriverManager\n",
    "import random\n",
    "\n",
    "def init_driver_firefox(headless = False):\n",
    "    firefox_options = Options()\n",
    "\n",
    "    if headless:\n",
    "        firefox_options.add_argument(\"--headless\")\n",
    "        firefox_options.set_preference(\"layout.css.devPixelsPerPx\", \"1\")  # Фиксируем масштаб\n",
    "        \n",
    "    # Настройки для ускорения и stealth\n",
    "    firefox_options.set_preference(\"dom.webdriver.enabled\", False)\n",
    "    firefox_options.set_preference(\"useAutomationExtension\", False)\n",
    "    firefox_options.set_preference(\"browser.cache.disk.enable\", True)\n",
    "    firefox_options.set_preference(\"browser.cache.memory.enable\", True)\n",
    "    firefox_options.set_preference(\"browser.cache.offline.enable\", True)\n",
    "    firefox_options.set_preference(\"network.http.use-cache\", True)\n",
    "    firefox_options.set_preference(\"permissions.default.image\", 2)  # Блокировка изображений\n",
    "    \n",
    "    # Случайный User-Agent из реальных браузеров\n",
    "    user_agents = [\n",
    "        \"Mozilla/5.0 (Macintosh; Intel Mac OS X 10.15; rv:109.0) Gecko/20100101 Firefox/115.0\",\n",
    "        \"Mozilla/5.0 (Macintosh; Intel Mac OS X 10.15; rv:122.0) Gecko/20100101 Firefox/122.0\",\n",
    "        \"Mozilla/5.0 (Macintosh; Intel Mac OS X 10_15_7) AppleWebKit/605.1.15 (KHTML, like Gecko) Version/16.6 Safari/605.1.15\"\n",
    "    ]\n",
    "    firefox_options.set_preference(\"general.useragent.override\", random.choice(user_agents))\n",
    "    \n",
    "    # Дополнительные настройки для незаметности\n",
    "    firefox_options.set_preference(\"privacy.resistFingerprinting\", True)\n",
    "    firefox_options.set_preference(\"privacy.trackingprotection.enabled\", True)\n",
    "    firefox_options.set_preference(\"dom.event.clipboardevents.enabled\", False)\n",
    "    firefox_options.set_preference(\"media.volume_scale\", \"0.0\")\n",
    "    \n",
    "    # Настройки для производительности\n",
    "    firefox_options.set_preference(\"gfx.webrender.all\", True)\n",
    "    firefox_options.set_preference(\"layers.acceleration.force-enabled\", True)\n",
    "    \n",
    "    # Создаем сервис и драйвер\n",
    "    service = Service(GeckoDriverManager().install())\n",
    "    driver = webdriver.Firefox(service=service, options=firefox_options)\n",
    "    \n",
    "    # Устанавливаем размер окна как у реального пользователя\n",
    "    driver.set_window_size(random.randint(1200, 1400), random.randint(800, 1000))\n",
    "    \n",
    "    # Эмулируем человеческое поведение\n",
    "    driver.execute_script(\"Object.defineProperty(navigator, 'webdriver', {get: () => undefined})\")\n",
    "    driver.execute_script(\"window.chrome = undefined;\")\n",
    "    \n",
    "    return driver\n",
    "\n",
    "# Пример использования\n",
    "# driver = init_driver_firefox()\n",
    "# driver.get(\"https://www.wildberries.ru\")\n",
    "# # print(driver.title)\n",
    "# driver.quit()"
   ]
  },
  {
   "cell_type": "code",
   "execution_count": 239,
   "id": "46e7fe98",
   "metadata": {},
   "outputs": [],
   "source": [
    "from selenium.webdriver.common.by import By\n",
    "from selenium.webdriver.support.ui import WebDriverWait\n",
    "from selenium.webdriver.support import expected_conditions as EC\n",
    "\n",
    "# Передаём драйвер как аргумент\n",
    "def get_product_details(driver, product_id):\n",
    "    driver.get(f\"https://www.wildberries.ru/catalog/{product_id}/detail.aspx\")\n",
    "    details = {\n",
    "        \"description\": \"\",\n",
    "        \"specifications\": {}  # Словарь для всех характеристик\n",
    "    }\n",
    "    \n",
    "    # Умное ожидание вместо фиксированного sleep\n",
    "    WebDriverWait(driver, 30).until(\n",
    "        EC.presence_of_element_located((By.CLASS_NAME, \"main__container\"))\n",
    "    )\n",
    "    \n",
    "    # Проверка и клик по кнопке подтверждения возраста\n",
    "    try:\n",
    "        button_confirm_age = WebDriverWait(driver, 10).until(\n",
    "            EC.element_to_be_clickable((By.XPATH, \"/html/body/div[1]/div/div/button[1]\"))\n",
    "        )\n",
    "        button_confirm_age.click()\n",
    "        print(\"Подтверждение возраста выполнено\")\n",
    "    except Exception:\n",
    "        print(\"Кнопка подтверждения возраста не найдена\")\n",
    "    \n",
    "    # Прокрутка с ожиданием\n",
    "    driver.execute_script(\"window.scrollBy(0, 800)\")\n",
    "\n",
    "    # Нажатие на характеристики с улучшенным ожиданием\n",
    "    try:\n",
    "        button = WebDriverWait(driver, 15).until(\n",
    "            EC.element_to_be_clickable((By.CSS_SELECTOR, \"button.product-page__btn-detail.hide-mobile.j-details-btn-desktop\"))\n",
    "        )\n",
    "        driver.execute_script(\"arguments[0].click();\", button)\n",
    "        \n",
    "        # Ожидание загрузки контента характеристик\n",
    "        try:\n",
    "            WebDriverWait(driver, 15).until(\n",
    "                EC.visibility_of_element_located((By.CSS_SELECTOR, \".product-params, .option__text\"))\n",
    "            )\n",
    "            print(\"Характеристики успешно открыты\")\n",
    "        except:\n",
    "            print(\"Характеристики не найдены\")\n",
    "        \n",
    "        # Сбор данных\n",
    "        try:\n",
    "            time.sleep(1)\n",
    "            details[\"description\"] = driver.find_element(By.CSS_SELECTOR, \".option__text\").text\n",
    "            print(\"Описание успешно записано\")\n",
    "        except Exception:\n",
    "            print(\"Описание не найдено\")\n",
    "            \n",
    "        # Парсинг характеристик\n",
    "        try:\n",
    "            # Находим все таблицы с характеристиками\n",
    "            tables = driver.find_elements(By.CSS_SELECTOR, \"table.product-params__table\")\n",
    "            for table in tables:\n",
    "                # Извлекаем название группы характеристик\n",
    "                try:\n",
    "                    group_name = table.find_element(By.CSS_SELECTOR, \"caption.product-params__caption\").text\n",
    "\n",
    "                    # Создаем подраздел для этой группы\n",
    "                    details[\"specifications\"][group_name] = {}\n",
    "                    \n",
    "                    # Обрабатываем строки таблицы\n",
    "                    rows = table.find_elements(By.CSS_SELECTOR, \"tr.product-params__row\")\n",
    "                    for row in rows:\n",
    "                        try:\n",
    "                            name = row.find_element(By.CSS_SELECTOR, \"th.product-params__cell\").text.strip()\n",
    "                            value = row.find_element(By.CSS_SELECTOR, \"td.product-params__cell\").text.strip()\n",
    "                            \n",
    "                            # Сохраняем характеристику в соответствующей группе\n",
    "                            details[\"specifications\"][group_name][name] = value\n",
    "                            \n",
    "                            # Для совместимости сохраняем особые поля\n",
    "                            if 'питани' in name.lower():\n",
    "                                details[\"power_type\"] = value\n",
    "                            elif 'зон' in name.lower() or 'область' in name.lower():\n",
    "                                details[\"zones\"] = value\n",
    "                            \n",
    "                                \n",
    "                        except Exception as e:\n",
    "                            print(f\"Ошибка обработки строки: {str(e)}\")\n",
    "                            continue\n",
    "                except:\n",
    "                    continue\n",
    "                        \n",
    "        except Exception as e:\n",
    "            print(f\"Ошибка парсинга характеристик: {str(e)}\")\n",
    "            \n",
    "    except Exception as e:\n",
    "        print(f\"Ошибка открытия характеристик: {str(e)}\")\n",
    "    \n",
    "    return details"
   ]
  },
  {
   "cell_type": "code",
   "execution_count": 244,
   "id": "bfe7fb46",
   "metadata": {},
   "outputs": [],
   "source": [
    "from config import *\n",
    "\n",
    "driver = init_driver_firefox(browser_headless)"
   ]
  },
  {
   "cell_type": "code",
   "execution_count": 246,
   "id": "3ec25543",
   "metadata": {},
   "outputs": [
    {
     "name": "stdout",
     "output_type": "stream",
     "text": [
      "Кнопка подтверждения возраста не найдена\n",
      "Характеристики успешно открыты\n",
      "Описание успешно записано\n"
     ]
    }
   ],
   "source": [
    "product_id = df.iloc[0][\"id\"]\n",
    "details = get_product_details(driver, product_id)"
   ]
  },
  {
   "cell_type": "code",
   "execution_count": 247,
   "id": "57f47958",
   "metadata": {},
   "outputs": [
    {
     "name": "stdout",
     "output_type": "stream",
     "text": [
      "{'description': 'Электростимулятор чрескожный универсальный Нейродэнс ПКМ — это современный физиотерапевтический аппарат, который станет надежным помощником в восстановлении и поддержании здоровья. Он предназначен для применения в домашних условиях, предоставляя возможность получать эффективные физиотерапевтические процедуры без необходимости посещения медицинских учреждений.\\n\\nПрибор работает на основе технологии электростимуляции, что позволяет воздействовать на мышцы, улучшая кровообращение и облегчая болевые ощущения. Устройство может использоваться для различных целей: от снятия напряжения после трудного дня до реабилитации после травм. С ним вы сможете проводить высококачественные процедуры, направленные на восстановление функциональности мышц и суставов, а также на долголетие здоровья.\\n\\nУниверсальный электростимулятор обладает несколькими режимами работы, которые легко переключаются в зависимости от потребностей пользователя. Компактный размер и стильный дизайн устройства позволяют его удобно использовать как в домашних условиях, так и брать с собой в поездки. Медицинский прибор оснащен простым и интуитивно понятным управлением, что делает его доступным для всех возрастных категорий.\\n\\nБлагодаря высококачественным материалам и современным технологиям, этот физиотерапевтический аппарат обеспечивает надежность и долгий срок службы. Нейродэнс ПКМ идеально подходит для тех, кто заботится о своем здоровье и стремится к активной жизни.\\n\\nС этим электростимулятором вы можете легко осуществлять заботу о своем организме, не выходя из дома. Он станет надежным партнёром в процессе восстановления и улучшения самочувствия.', 'specifications': {'Общие характеристики': {'Гарантийный срок': '1 год'}, 'Питание': {'Питание': 'от батареек'}, 'Технические особенности': {'Количество режимов работы': '24'}, 'Материалы': {'Материал корпуса': 'пластик'}, 'Дополнительная информация': {'Вид воздействия': 'ток низкой частоты на определённые зоны тела', 'Область применения': 'для всего тела', 'Противопоказания': 'индивидуальная непереносимость; наличие имплантированного кардиостимулятора', 'Комплектация': 'батарейки АА (2шт.); инструкция по эксплуатации; электростимулятор', 'Страна производства': 'Россия'}, 'Габариты': {'Высота предмета': '4.5 см', 'Ширина предмета': '5.5 см', 'Длина предмета': '14.5 см', 'Вес товара без упаковки (г)': '350 г', 'Вес товара с упаковкой (г)': '425 г', 'Длина упаковки': '24 см', 'Высота упаковки': '9 см', 'Ширина упаковки': '17 см'}, 'Документы': {'Регистрационное удостоверение': 'РЗН 2019/9330'}}, 'power_type': 'от батареек', 'zones': 'для всего тела'}\n"
     ]
    }
   ],
   "source": [
    "print(details)"
   ]
  },
  {
   "cell_type": "code",
   "execution_count": 243,
   "id": "aa956aaa",
   "metadata": {},
   "outputs": [],
   "source": [
    "driver.quit()  # Закрываем браузер только после всех запросов"
   ]
  },
  {
   "cell_type": "markdown",
   "id": "46dfc7c9",
   "metadata": {},
   "source": [
    "Тестыыыы"
   ]
  },
  {
   "cell_type": "code",
   "execution_count": 8,
   "id": "4a83385b",
   "metadata": {},
   "outputs": [],
   "source": [
    "product_id = df.iloc[0][\"id\"]\n",
    "driver.get(f\"https://www.wildberries.ru/catalog/{product_id}/detail.aspx\")"
   ]
  },
  {
   "cell_type": "code",
   "execution_count": 10,
   "id": "2c314dbd",
   "metadata": {},
   "outputs": [],
   "source": [
    "# Нажатие кнопки 18+\n",
    "button_confirm_age = driver.find_element(By.XPATH, \"/html/body/div[1]/div/div/button[1]\")\n",
    "button_confirm_age.click()"
   ]
  },
  {
   "cell_type": "code",
   "execution_count": 13,
   "id": "0547b392",
   "metadata": {},
   "outputs": [],
   "source": [
    "driver.execute_script(\"window.scrollBy(0, 800)\")"
   ]
  },
  {
   "cell_type": "code",
   "execution_count": 19,
   "id": "ea39e449",
   "metadata": {},
   "outputs": [],
   "source": [
    "try:\n",
    "    # Нажатие на Характеристики\n",
    "    button_characteristics_and_description = driver.find_element(By.CSS_SELECTOR, \"button.product-page__btn-detail.hide-mobile.j-details-btn-desktop\")\n",
    "    button_characteristics_and_description.click()\n",
    "except Exception as e:\n",
    "    print(f\"Ошибка для {product_id}: {str(e)}\")\n",
    "\n",
    "# <button type=\"button\" class=\"product-page__btn-detail hide-mobile j-details-btn-desktop\" data-name-for-wba=\"Item_Description_Parameters_More\" data-link=\"{on showDetail}text{:~t('productCard.charAndDescr')}class{merge: abCentralBlock toggle='product-page__btn-detail--ab'}\" data-jsv=\"#2190^/2190^\">Характеристики и описание</button>"
   ]
  },
  {
   "cell_type": "code",
   "execution_count": 35,
   "id": "6adc22d7",
   "metadata": {},
   "outputs": [],
   "source": [
    "driver.quit()  # Закрываем браузер только после всех запросов"
   ]
  },
  {
   "cell_type": "code",
   "execution_count": 75,
   "id": "5f57d57e",
   "metadata": {},
   "outputs": [
    {
     "name": "stdout",
     "output_type": "stream",
     "text": [
      "<Response [200]>\n",
      "{}\n"
     ]
    }
   ],
   "source": [
    "def get_product_details_1(nm_id):\n",
    "    url = \"https://card.wb.ru/cards/v2/detail\"\n",
    "    params = {\n",
    "        \"appType\": 1,\n",
    "        \"curr\": \"rub\",\n",
    "        \"dest\": -1257786,  # Регион доставки (Москва)\n",
    "        \"nm\": nm_id        # Артикул товара\n",
    "    }\n",
    "    \n",
    "    response = requests.get(url, params=params)\n",
    "    print(response)\n",
    "    # data = response.json()\n",
    "    \n",
    "    # Извлекаем характеристики\n",
    "    # product = data[\"data\"][\"products\"][0]\n",
    "    return {\n",
    "        # \"Характеристики\": [f\"{opt['name']}: {opt['value']}\" for opt in product[\"options\"]],\n",
    "        # \"Описание\": product.get(\"description\", \"\")\n",
    "    }\n",
    "\n",
    "# Пример использования \n",
    "details = get_product_details_1(428282572)\n",
    "print(details)"
   ]
  },
  {
   "cell_type": "markdown",
   "id": "944827fd",
   "metadata": {},
   "source": [
    "{'description': 'Электростимулятор чрескожный универсальный Нейродэнс ПКМ — это современный физиотерапевтический аппарат, который станет надежным помощником в восстановлении и поддержании здоровья. Он предназначен для применения в домашних условиях, предоставляя возможность получать эффективные физиотерапевтические процедуры без необходимости посещения медицинских учреждений.\\n\\nПрибор работает на основе технологии электростимуляции, что позволяет воздействовать на мышцы, улучшая кровообращение и облегчая болевые ощущения. Устройство может использоваться для различных целей: от снятия напряжения после трудного дня до реабилитации после травм. С ним вы сможете проводить высококачественные процедуры, направленные на восстановление функциональности мышц и суставов, а также на долголетие здоровья.\\n\\nУниверсальный электростимулятор обладает несколькими режимами работы, которые легко переключаются в зависимости от потребностей пользователя. Компактный размер и стильный дизайн устройства позволяют его удобно использовать как в домашних условиях, так и брать с собой в поездки. Медицинский прибор оснащен простым и интуитивно понятным управлением, что делает его доступным для всех возрастных категорий.\\n\\nБлагодаря высококачественным материалам и современным технологиям, этот физиотерапевтический аппарат обеспечивает надежность и долгий срок службы. Нейродэнс ПКМ идеально подходит для тех, кто заботится о своем здоровье и стремится к активной жизни.\\n\\nС этим электростимулятором вы можете легко осуществлять заботу о своем организме, не выходя из дома. Он станет надежным партнёром в процессе восстановления и улучшения самочувствия.', \n",
    "'specifications': \n",
    "{'Общие характеристики': {'Гарантийный срок': '1 год'}, \n",
    "'Питание': {'Питание': 'от батареек'}, \n",
    "'Технические особенности': {'Количество режимов работы': '24'}, \n",
    "'Материалы': {'Материал корпуса': 'пластик'}, \n",
    "'Дополнительная информация': {'Вид воздействия': 'ток низкой частоты на определённые зоны тела', \n",
    "'Область применения': 'для всего тела', 'Противопоказания': 'индивидуальная непереносимость; наличие имплантированного кардиостимулятора', 'Комплектация': 'батарейки АА (2шт.); инструкция по эксплуатации; электростимулятор', 'Страна производства': 'Россия'}, \n",
    "'Габариты': {'Высота предмета': '4.5 см', 'Ширина предмета': '5.5 см', 'Длина предмета': '14.5 см', 'Вес товара без упаковки (г)': '350 г', 'Вес товара с упаковкой (г)': '425 г', 'Длина упаковки': '24 см', 'Высота упаковки': '9 см', 'Ширина упаковки': '17 см'}, \n",
    "'Документы': {'Регистрационное удостоверение': 'РЗН 2019/9330'}, \n",
    "'Без названия': {'': ''}}, \n",
    "'power_type': 'от батареек'}"
   ]
  }
 ],
 "metadata": {
  "kernelspec": {
   "display_name": "antarctik_climate",
   "language": "python",
   "name": "python3"
  },
  "language_info": {
   "codemirror_mode": {
    "name": "ipython",
    "version": 3
   },
   "file_extension": ".py",
   "mimetype": "text/x-python",
   "name": "python",
   "nbconvert_exporter": "python",
   "pygments_lexer": "ipython3",
   "version": "3.10.14"
  }
 },
 "nbformat": 4,
 "nbformat_minor": 5
}
